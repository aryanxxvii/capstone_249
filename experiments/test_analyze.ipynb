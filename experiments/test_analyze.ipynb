{
 "cells": [
  {
   "cell_type": "code",
   "execution_count": 59,
   "metadata": {},
   "outputs": [],
   "source": [
    "import numpy as np\n",
    "import pandas as pd\n",
    "from pathlib import Path"
   ]
  },
  {
   "cell_type": "code",
   "execution_count": 60,
   "metadata": {},
   "outputs": [],
   "source": [
    "dataset_root = 'data'"
   ]
  },
  {
   "cell_type": "code",
   "execution_count": 69,
   "metadata": {},
   "outputs": [],
   "source": [
    "# go one folder up, then down to data folder\n",
    "data_path = Path.cwd().parent / dataset_root\n",
    "df = pd.read_csv(data_path / 'database.csv')\n"
   ]
  },
  {
   "cell_type": "code",
   "execution_count": 62,
   "metadata": {},
   "outputs": [
    {
     "name": "stdout",
     "output_type": "stream",
     "text": [
      "<class 'pandas.core.frame.DataFrame'>\n",
      "RangeIndex: 23412 entries, 0 to 23411\n",
      "Data columns (total 21 columns):\n",
      " #   Column                      Non-Null Count  Dtype  \n",
      "---  ------                      --------------  -----  \n",
      " 0   Date                        23412 non-null  object \n",
      " 1   Time                        23412 non-null  object \n",
      " 2   Latitude                    23412 non-null  float64\n",
      " 3   Longitude                   23412 non-null  float64\n",
      " 4   Type                        23412 non-null  object \n",
      " 5   Depth                       23412 non-null  float64\n",
      " 6   Depth Error                 4461 non-null   float64\n",
      " 7   Depth Seismic Stations      7097 non-null   float64\n",
      " 8   Magnitude                   23412 non-null  float64\n",
      " 9   Magnitude Type              23409 non-null  object \n",
      " 10  Magnitude Error             327 non-null    float64\n",
      " 11  Magnitude Seismic Stations  2564 non-null   float64\n",
      " 12  Azimuthal Gap               7299 non-null   float64\n",
      " 13  Horizontal Distance         1604 non-null   float64\n",
      " 14  Horizontal Error            1156 non-null   float64\n",
      " 15  Root Mean Square            17352 non-null  float64\n",
      " 16  ID                          23412 non-null  object \n",
      " 17  Source                      23412 non-null  object \n",
      " 18  Location Source             23412 non-null  object \n",
      " 19  Magnitude Source            23412 non-null  object \n",
      " 20  Status                      23412 non-null  object \n",
      "dtypes: float64(12), object(9)\n",
      "memory usage: 3.8+ MB\n"
     ]
    }
   ],
   "source": [
    "df.info()"
   ]
  },
  {
   "cell_type": "code",
   "execution_count": 68,
   "metadata": {},
   "outputs": [],
   "source": [
    "from geopy.distance import geodesic\n",
    "from sklearn.cluster import KMeans\n",
    "\n",
    "def calculate_distance(current_lat, current_lon, prev_lat, prev_lon):\n",
    "    # Check if any value is missing (e.g., for the first row)\n",
    "    if pd.isnull(prev_lat) or pd.isnull(prev_lon):\n",
    "        return 0  # No distance for the first row\n",
    "    # Calculate geodesic distance\n",
    "    return geodesic((current_lat, current_lon), (prev_lat, prev_lon)).km\n",
    "\n",
    "\n",
    "def preprocess(data):\n",
    "    data = data[['Date', 'Time', 'Latitude', 'Longitude', 'Depth', 'Magnitude']]\n",
    "    data['Timestamp'] = pd.to_datetime(data['Date'] + ' ' + data['Time'], format=\"%m/%d/%Y %H:%M:%S\", errors='coerce')\n",
    "    data = data[data['Timestamp'] >= pd.Timestamp('1970-01-01')]\n",
    "\n",
    "    data.reset_index(drop=True, inplace=True)\n",
    "    data = data.drop(['Date', 'Time'], axis=1)\n",
    "\n",
    "    data['Time_Delta'] = data['Timestamp'].diff().dt.total_seconds()    \n",
    "    data = data.fillna(0)\n",
    "    data['Year'] = data['Timestamp'].dt.year\n",
    "    data['Month'] = data['Timestamp'].dt.month\n",
    "    data['Day'] = data['Timestamp'].dt.day\n",
    "    data['Weekday'] = data['Timestamp'].dt.weekday\n",
    "    data['Hour'] = data['Timestamp'].dt.hour\n",
    "\n",
    "    data['Hour'] = data['Timestamp'].dt.hour\n",
    "    data['Hour_Sin'] = np.sin(2 * np.pi * data['Hour'] / 24)\n",
    "    data['Hour_Cos'] = np.cos(2 * np.pi * data['Hour'] / 24)\n",
    "\n",
    "    data['DayOfYear'] = data['Timestamp'].dt.dayofyear\n",
    "    data['DayOfYear_Sin'] = np.sin(2 * np.pi * data['DayOfYear'] / 365)\n",
    "    data['DayOfYear_Cos'] = np.cos(2 * np.pi * data['DayOfYear'] / 365)\n",
    "\n",
    "    data['Month_Sin'] = np.sin(2 * np.pi * data['Month'] / 12)\n",
    "    data['Month_Cos'] = np.cos(2 * np.pi * data['Month'] / 12)\n",
    "\n",
    "    data['Day_Sin'] = np.sin(2 * np.pi * data['Day'] / 31)\n",
    "    data['Day_Cos'] = np.cos(2 * np.pi * data['Day'] / 31)\n",
    "\n",
    "\n",
    "    \n",
    "    # Create shifted columns for previous latitude and longitude\n",
    "    data['Prev_Latitude'] = data['Latitude'].shift(1)\n",
    "    data['Prev_Longitude'] = data['Longitude'].shift(1)\n",
    "    \n",
    "    # Compute geodesic distance using the fixed function\n",
    "    data['Geodesic_Distance'] = data.apply(\n",
    "        lambda row: calculate_distance(row['Latitude'], row['Longitude'], \n",
    "                                       row['Prev_Latitude'], row['Prev_Longitude']), \n",
    "        axis=1\n",
    "    )\n",
    "    \n",
    "    # Drop temporary columns if needed\n",
    "    data = data.drop(columns=['Prev_Latitude', 'Prev_Longitude'])\n",
    " \n",
    "    kmeans = KMeans(n_clusters=10, random_state=42)\n",
    "    data['Region_Cluster'] = kmeans.fit_predict(data[['Latitude', 'Longitude']])\n",
    "\n",
    "    data['Cumulative_Magnitude'] = data['Magnitude'].rolling(window=5).sum()\n",
    "    data['Avg_Magnitude'] = data['Magnitude'].rolling(window=5).mean()\n",
    "\n",
    "    global_avg_magnitude = data['Magnitude'].mean()\n",
    "    data['Deviation_From_Avg'] = data['Magnitude'] - global_avg_magnitude\n",
    "\n",
    "    data['Magnitude_Lag1'] = data['Magnitude'].shift(1)\n",
    "    data['Time_Delta_Lag1'] = data['Time_Delta'].shift(1)\n",
    "\n",
    "    data['Magnitude_Depth'] = data['Magnitude'] * data['Depth']\n",
    "    data['Region_Time'] = data['Region_Cluster'] * data['Time_Delta']\n",
    "\n",
    "    data['Rolling_Magnitude_Month'] = data['Magnitude'].rolling(window=30).mean()\n",
    "    data['Year_Count'] = data.groupby('Year')['Magnitude'].transform('count')\n",
    "\n",
    "    data['Yearly_Avg_Magnitude'] = data.groupby('Year')['Magnitude'].transform('mean')\n",
    "    data['Cumulative_Quakes'] = np.arange(1, len(data) + 1)  # Simple cumulative count\n",
    "    data['Magnitude_Year'] = data['Year'] * data['Magnitude']\n",
    "    data['Depth_Month'] = data['Depth'] * data['Month']\n",
    "\n",
    " \n",
    "    return data"
   ]
  },
  {
   "cell_type": "code",
   "execution_count": 70,
   "metadata": {},
   "outputs": [
    {
     "name": "stderr",
     "output_type": "stream",
     "text": [
      "C:\\Users\\Aryan Wadhawan\\AppData\\Local\\Temp\\ipykernel_34272\\1507896547.py:14: SettingWithCopyWarning: \n",
      "A value is trying to be set on a copy of a slice from a DataFrame.\n",
      "Try using .loc[row_indexer,col_indexer] = value instead\n",
      "\n",
      "See the caveats in the documentation: https://pandas.pydata.org/pandas-docs/stable/user_guide/indexing.html#returning-a-view-versus-a-copy\n",
      "  data['Timestamp'] = pd.to_datetime(data['Date'] + ' ' + data['Time'], format=\"%m/%d/%Y %H:%M:%S\", errors='coerce')\n"
     ]
    }
   ],
   "source": [
    "df = preprocess(df)"
   ]
  },
  {
   "cell_type": "code",
   "execution_count": 75,
   "metadata": {},
   "outputs": [
    {
     "data": {
      "text/plain": [
       "(21953, 35)"
      ]
     },
     "execution_count": 75,
     "metadata": {},
     "output_type": "execute_result"
    }
   ],
   "source": [
    "df.shape"
   ]
  },
  {
   "cell_type": "code",
   "execution_count": 28,
   "metadata": {},
   "outputs": [
    {
     "name": "stdout",
     "output_type": "stream",
     "text": [
      "<class 'pandas.core.frame.DataFrame'>\n",
      "RangeIndex: 21953 entries, 0 to 21952\n",
      "Data columns (total 5 columns):\n",
      " #   Column     Non-Null Count  Dtype         \n",
      "---  ------     --------------  -----         \n",
      " 0   Latitude   21953 non-null  float64       \n",
      " 1   Longitude  21953 non-null  float64       \n",
      " 2   Depth      21953 non-null  float64       \n",
      " 3   Magnitude  21953 non-null  float64       \n",
      " 4   Timestamp  21953 non-null  datetime64[ns]\n",
      "dtypes: datetime64[ns](1), float64(4)\n",
      "memory usage: 857.7 KB\n"
     ]
    }
   ],
   "source": [
    "df.info()"
   ]
  },
  {
   "cell_type": "code",
   "execution_count": 35,
   "metadata": {},
   "outputs": [
    {
     "data": {
      "text/plain": [
       "Magnitude\n",
       "5.50    4655\n",
       "5.60    3769\n",
       "5.70    2847\n",
       "5.80    2164\n",
       "5.90    1807\n",
       "        ... \n",
       "5.88       1\n",
       "8.80       1\n",
       "5.72       1\n",
       "6.02       1\n",
       "5.73       1\n",
       "Name: count, Length: 61, dtype: int64"
      ]
     },
     "execution_count": 35,
     "metadata": {},
     "output_type": "execute_result"
    }
   ],
   "source": [
    "# max and min magnitudes\n",
    "df['Magnitude'].value_counts()"
   ]
  },
  {
   "cell_type": "code",
   "execution_count": 36,
   "metadata": {},
   "outputs": [
    {
     "data": {
      "image/png": "[encoded data removed]",
      "text/plain": [
       "<Figure size 640x480 with 1 Axes>"
      ]
     },
     "metadata": {},
     "output_type": "display_data"
    }
   ],
   "source": [
    "import matplotlib.pyplot as plt\n",
    "\n",
    "plt.pie(df['Magnitude'].value_counts(), labels=df['Magnitude'].value_counts().index, autopct='%1.1f%%')\n",
    "plt.show()"
   ]
  },
  {
   "cell_type": "code",
   "execution_count": 38,
   "metadata": {},
   "outputs": [
    {
     "data": {
      "text/plain": [
       "Latitude     0\n",
       "Longitude    0\n",
       "Depth        0\n",
       "Magnitude    0\n",
       "Timestamp    0\n",
       "dtype: int64"
      ]
     },
     "execution_count": 38,
     "metadata": {},
     "output_type": "execute_result"
    }
   ],
   "source": [
    "df.isna().sum()"
   ]
  },
  {
   "cell_type": "code",
   "execution_count": null,
   "metadata": {},
   "outputs": [
    {
     "name": "stdout",
     "output_type": "stream",
     "text": [
      "avg delta: 0 days 18:45:59.522959183\n",
      "max delta: 10 days 00:11:20\n",
      "min delta: 0 days 00:00:00\n"
     ]
    }
   ],
   "source": [
    "# time delta statistics\n",
    "time_deltas = (df['Timestamp'] - df['Timestamp'].shift()).dropna()\n",
    "print(f\"avg delta: {time_deltas.mean()}\")\n",
    "print(f\"max delta: {time_deltas.max()}\")\n",
    "print(f\"min delta: {time_deltas.min()}\")"
   ]
  },
  {
   "cell_type": "code",
   "execution_count": 45,
   "metadata": {},
   "outputs": [
    {
     "name": "stdout",
     "output_type": "stream",
     "text": [
      "<class 'pandas.core.frame.DataFrame'>\n",
      "RangeIndex: 21953 entries, 0 to 21952\n",
      "Data columns (total 5 columns):\n",
      " #   Column     Non-Null Count  Dtype         \n",
      "---  ------     --------------  -----         \n",
      " 0   Latitude   21953 non-null  float64       \n",
      " 1   Longitude  21953 non-null  float64       \n",
      " 2   Depth      21953 non-null  float64       \n",
      " 3   Magnitude  21953 non-null  float64       \n",
      " 4   Timestamp  21953 non-null  datetime64[ns]\n",
      "dtypes: datetime64[ns](1), float64(4)\n",
      "memory usage: 857.7 KB\n"
     ]
    },
    {
     "data": {
      "text/html": [
       "<div>\n",
       "<style scoped>\n",
       "    .dataframe tbody tr th:only-of-type {\n",
       "        vertical-align: middle;\n",
       "    }\n",
       "\n",
       "    .dataframe tbody tr th {\n",
       "        vertical-align: top;\n",
       "    }\n",
       "\n",
       "    .dataframe thead th {\n",
       "        text-align: right;\n",
       "    }\n",
       "</style>\n",
       "<table border=\"1\" class=\"dataframe\">\n",
       "  <thead>\n",
       "    <tr style=\"text-align: right;\">\n",
       "      <th></th>\n",
       "      <th>Latitude</th>\n",
       "      <th>Longitude</th>\n",
       "      <th>Depth</th>\n",
       "      <th>Magnitude</th>\n",
       "      <th>Timestamp</th>\n",
       "    </tr>\n",
       "  </thead>\n",
       "  <tbody>\n",
       "    <tr>\n",
       "      <th>0</th>\n",
       "      <td>-29.400</td>\n",
       "      <td>-177.169</td>\n",
       "      <td>35.0</td>\n",
       "      <td>5.6</td>\n",
       "      <td>1970-01-01 17:11:00</td>\n",
       "    </tr>\n",
       "    <tr>\n",
       "      <th>1</th>\n",
       "      <td>24.185</td>\n",
       "      <td>102.543</td>\n",
       "      <td>11.3</td>\n",
       "      <td>7.1</td>\n",
       "      <td>1970-01-04 17:00:41</td>\n",
       "    </tr>\n",
       "    <tr>\n",
       "      <th>2</th>\n",
       "      <td>23.984</td>\n",
       "      <td>102.732</td>\n",
       "      <td>15.0</td>\n",
       "      <td>5.9</td>\n",
       "      <td>1970-01-05 11:49:10</td>\n",
       "    </tr>\n",
       "    <tr>\n",
       "      <th>3</th>\n",
       "      <td>-9.583</td>\n",
       "      <td>151.493</td>\n",
       "      <td>15.0</td>\n",
       "      <td>6.3</td>\n",
       "      <td>1970-01-06 05:35:54</td>\n",
       "    </tr>\n",
       "    <tr>\n",
       "      <th>4</th>\n",
       "      <td>15.785</td>\n",
       "      <td>-59.808</td>\n",
       "      <td>36.7</td>\n",
       "      <td>6.0</td>\n",
       "      <td>1970-01-07 07:56:14</td>\n",
       "    </tr>\n",
       "  </tbody>\n",
       "</table>\n",
       "</div>"
      ],
      "text/plain": [
       "   Latitude  Longitude  Depth  Magnitude           Timestamp\n",
       "0   -29.400   -177.169   35.0        5.6 1970-01-01 17:11:00\n",
       "1    24.185    102.543   11.3        7.1 1970-01-04 17:00:41\n",
       "2    23.984    102.732   15.0        5.9 1970-01-05 11:49:10\n",
       "3    -9.583    151.493   15.0        6.3 1970-01-06 05:35:54\n",
       "4    15.785    -59.808   36.7        6.0 1970-01-07 07:56:14"
      ]
     },
     "execution_count": 45,
     "metadata": {},
     "output_type": "execute_result"
    }
   ],
   "source": [
    "df.info()\n",
    "df.head()"
   ]
  },
  {
   "cell_type": "code",
   "execution_count": 52,
   "metadata": {},
   "outputs": [],
   "source": [
    "df = df.sort_values(by='Timestamp', ascending=True)"
   ]
  },
  {
   "cell_type": "code",
   "execution_count": 53,
   "metadata": {},
   "outputs": [],
   "source": [
    "df['Time_Delta'] = df['Timestamp'].diff().dt.total_seconds()"
   ]
  },
  {
   "cell_type": "code",
   "execution_count": 55,
   "metadata": {},
   "outputs": [],
   "source": [
    "df = df.fillna(0)"
   ]
  },
  {
   "cell_type": "code",
   "execution_count": null,
   "metadata": {},
   "outputs": [
    {
     "data": {
      "text/html": [
       "<div>\n",
       "<style scoped>\n",
       "    .dataframe tbody tr th:only-of-type {\n",
       "        vertical-align: middle;\n",
       "    }\n",
       "\n",
       "    .dataframe tbody tr th {\n",
       "        vertical-align: top;\n",
       "    }\n",
       "\n",
       "    .dataframe thead th {\n",
       "        text-align: right;\n",
       "    }\n",
       "</style>\n",
       "<table border=\"1\" class=\"dataframe\">\n",
       "  <thead>\n",
       "    <tr style=\"text-align: right;\">\n",
       "      <th></th>\n",
       "      <th>Latitude</th>\n",
       "      <th>Longitude</th>\n",
       "      <th>Depth</th>\n",
       "      <th>Magnitude</th>\n",
       "      <th>Timestamp</th>\n",
       "      <th>Time_Delta</th>\n",
       "    </tr>\n",
       "  </thead>\n",
       "  <tbody>\n",
       "    <tr>\n",
       "      <th>0</th>\n",
       "      <td>-29.4000</td>\n",
       "      <td>-177.1690</td>\n",
       "      <td>35.00</td>\n",
       "      <td>5.6</td>\n",
       "      <td>1970-01-01 17:11:00</td>\n",
       "      <td>0.0</td>\n",
       "    </tr>\n",
       "    <tr>\n",
       "      <th>1</th>\n",
       "      <td>24.1850</td>\n",
       "      <td>102.5430</td>\n",
       "      <td>11.30</td>\n",
       "      <td>7.1</td>\n",
       "      <td>1970-01-04 17:00:41</td>\n",
       "      <td>258581.0</td>\n",
       "    </tr>\n",
       "    <tr>\n",
       "      <th>2</th>\n",
       "      <td>23.9840</td>\n",
       "      <td>102.7320</td>\n",
       "      <td>15.00</td>\n",
       "      <td>5.9</td>\n",
       "      <td>1970-01-05 11:49:10</td>\n",
       "      <td>67709.0</td>\n",
       "    </tr>\n",
       "    <tr>\n",
       "      <th>3</th>\n",
       "      <td>-9.5830</td>\n",
       "      <td>151.4930</td>\n",
       "      <td>15.00</td>\n",
       "      <td>6.3</td>\n",
       "      <td>1970-01-06 05:35:54</td>\n",
       "      <td>64004.0</td>\n",
       "    </tr>\n",
       "    <tr>\n",
       "      <th>4</th>\n",
       "      <td>15.7850</td>\n",
       "      <td>-59.8080</td>\n",
       "      <td>36.70</td>\n",
       "      <td>6.0</td>\n",
       "      <td>1970-01-07 07:56:14</td>\n",
       "      <td>94820.0</td>\n",
       "    </tr>\n",
       "    <tr>\n",
       "      <th>...</th>\n",
       "      <td>...</td>\n",
       "      <td>...</td>\n",
       "      <td>...</td>\n",
       "      <td>...</td>\n",
       "      <td>...</td>\n",
       "      <td>...</td>\n",
       "    </tr>\n",
       "    <tr>\n",
       "      <th>21948</th>\n",
       "      <td>38.3917</td>\n",
       "      <td>-118.8941</td>\n",
       "      <td>12.30</td>\n",
       "      <td>5.6</td>\n",
       "      <td>2016-12-28 08:22:12</td>\n",
       "      <td>251.0</td>\n",
       "    </tr>\n",
       "    <tr>\n",
       "      <th>21949</th>\n",
       "      <td>38.3777</td>\n",
       "      <td>-118.8957</td>\n",
       "      <td>8.80</td>\n",
       "      <td>5.5</td>\n",
       "      <td>2016-12-28 09:13:47</td>\n",
       "      <td>3095.0</td>\n",
       "    </tr>\n",
       "    <tr>\n",
       "      <th>21950</th>\n",
       "      <td>36.9179</td>\n",
       "      <td>140.4262</td>\n",
       "      <td>10.00</td>\n",
       "      <td>5.9</td>\n",
       "      <td>2016-12-28 12:38:51</td>\n",
       "      <td>12304.0</td>\n",
       "    </tr>\n",
       "    <tr>\n",
       "      <th>21951</th>\n",
       "      <td>-9.0283</td>\n",
       "      <td>118.6639</td>\n",
       "      <td>79.00</td>\n",
       "      <td>6.3</td>\n",
       "      <td>2016-12-29 22:30:19</td>\n",
       "      <td>121888.0</td>\n",
       "    </tr>\n",
       "    <tr>\n",
       "      <th>21952</th>\n",
       "      <td>37.3973</td>\n",
       "      <td>141.4103</td>\n",
       "      <td>11.94</td>\n",
       "      <td>5.5</td>\n",
       "      <td>2016-12-30 20:08:28</td>\n",
       "      <td>77889.0</td>\n",
       "    </tr>\n",
       "  </tbody>\n",
       "</table>\n",
       "<p>21953 rows × 6 columns</p>\n",
       "</div>"
      ],
      "text/plain": [
       "       Latitude  Longitude  Depth  Magnitude           Timestamp  Time_Delta\n",
       "0      -29.4000  -177.1690  35.00        5.6 1970-01-01 17:11:00         0.0\n",
       "1       24.1850   102.5430  11.30        7.1 1970-01-04 17:00:41    258581.0\n",
       "2       23.9840   102.7320  15.00        5.9 1970-01-05 11:49:10     67709.0\n",
       "3       -9.5830   151.4930  15.00        6.3 1970-01-06 05:35:54     64004.0\n",
       "4       15.7850   -59.8080  36.70        6.0 1970-01-07 07:56:14     94820.0\n",
       "...         ...        ...    ...        ...                 ...         ...\n",
       "21948   38.3917  -118.8941  12.30        5.6 2016-12-28 08:22:12       251.0\n",
       "21949   38.3777  -118.8957   8.80        5.5 2016-12-28 09:13:47      3095.0\n",
       "21950   36.9179   140.4262  10.00        5.9 2016-12-28 12:38:51     12304.0\n",
       "21951   -9.0283   118.6639  79.00        6.3 2016-12-29 22:30:19    121888.0\n",
       "21952   37.3973   141.4103  11.94        5.5 2016-12-30 20:08:28     77889.0\n",
       "\n",
       "[21953 rows x 6 columns]"
      ]
     },
     "execution_count": 56,
     "metadata": {},
     "output_type": "execute_result"
    }
   ],
   "source": []
  },
  {
   "cell_type": "code",
   "execution_count": null,
   "metadata": {},
   "outputs": [],
   "source": [
    "import torch\n",
    "import torch.nn as nn\n",
    "import torch.optim as optim\n",
    "\n",
    "class LSTMWithAttention(nn.Module):\n",
    "    def __init__(self, input_dim, hidden_dim, output_dim, num_layers=2, dropout=0.2):\n",
    "        super(LSTMWithAttention, self).__init__()\n",
    "        self.hidden_dim = hidden_dim\n",
    "        self.num_layers = num_layers\n",
    "        \n",
    "        # LSTM layer\n",
    "        self.lstm = nn.LSTM(input_dim, hidden_dim, num_layers, batch_first=True, dropout=dropout)\n",
    "        \n",
    "        # Attention layer\n",
    "        self.attention = nn.Linear(hidden_dim, 1)\n",
    "        \n",
    "        # Fully connected layer\n",
    "        self.fc = nn.Linear(hidden_dim, output_dim)\n",
    "        \n",
    "        # Dropout\n",
    "        self.dropout = nn.Dropout(dropout)\n",
    "\n",
    "    def forward(self, x):\n",
    "        # x shape: (batch_size, seq_length, input_dim)\n",
    "        lstm_out, _ = self.lstm(x)  # lstm_out: (batch_size, seq_length, hidden_dim)\n",
    "        \n",
    "        # Compute attention scores\n",
    "        attention_weights = torch.tanh(self.attention(lstm_out))  # (batch_size, seq_length, 1)\n",
    "        attention_weights = torch.softmax(attention_weights, dim=1)  # Normalize along sequence length\n",
    "        \n",
    "        # Apply attention weights\n",
    "        context_vector = torch.sum(attention_weights * lstm_out, dim=1)  # (batch_size, hidden_dim)\n",
    "        \n",
    "        # Pass through fully connected layer\n",
    "        output = self.fc(self.dropout(context_vector))  # (batch_size, output_dim)\n",
    "        return output\n"
   ]
  }
 ],
 "metadata": {
  "kernelspec": {
   "display_name": "Python 3",
   "language": "python",
   "name": "python3"
  },
  "language_info": {
   "codemirror_mode": {
    "name": "ipython",
    "version": 3
   },
   "file_extension": ".py",
   "mimetype": "text/x-python",
   "name": "python",
   "nbconvert_exporter": "python",
   "pygments_lexer": "ipython3",
   "version": "3.10.15"
  }
 },
 "nbformat": 4,
 "nbformat_minor": 2
}
